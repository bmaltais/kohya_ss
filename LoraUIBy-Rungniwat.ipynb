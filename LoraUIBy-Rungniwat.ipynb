{
  "cells": [
    {
      "cell_type": "markdown",
      "metadata": {
        "id": "view-in-github",
        "colab_type": "text"
      },
      "source": [
        "<a href=\"https://colab.research.google.com/github/yahoojbank/microsoft/blob/master/LoraUIBy-Rungniwat.ipynb\" target=\"_parent\"><img src=\"https://colab.research.google.com/assets/colab-badge.svg\" alt=\"Open In Colab\"/></a>"
      ]
    },
    {
      "cell_type": "markdown",
      "metadata": {
        "id": "MvroZ9rJ1iqN"
      },
      "source": [
        "\n",
        "(https://github.com/bmaltais/kohya_ss) by [bmaltais]"
      ]
    },
    {
      "cell_type": "markdown",
      "metadata": {
        "id": "DrAnm1um5vjh"
      },
      "source": [
        "\n",
        "\n",
        "\n",
        "---\n",
        "\n"
      ]
    },
    {
      "cell_type": "code",
      "execution_count": null,
      "metadata": {
        "id": "vmoRnFQEqOeY"
      },
"outputs": [],
      "source": [
        "#@markdown #ติดตั้ง X Virtual\n",
        "\n",
        "\n",
        "\n",
        "\n",
        "!apt-get install -y xvfb\n",
        "os.system('Xvfb :1 -screen 0 1600x1200x16\n"    
        "os.environ['DISPLAY']=':1.0'')"
      "outputs": [],
      "source": [
        "#@markdown #ขั้นตอนที่ 1 รันเชื่อมต่อกับ Google Drive\n",
        "\n",
        "#@markdown ทุกอย่างที่กำลังทำงานจะถูกเซฟไว้ใน Google Drive ทั้งหมดเตรียมพื้นที่ให้พร้อม.\n",
        "\n",
        "#@markdown เส้นทางที่ถูกเซฟไว้คือที่นี่ /content/gdrive.\n",
        "\n",
        "\n",
        "\n",
        "from google.colab import drive\n",
        "drive.mount('/content/gdrive')"
      ]
    {,
    {
      "cell_type": "markdown",
      "metadata": {
        "id": "mvQwnr4354BM"
      },
      "source": [
        "\n",
        "\n",
        "---\n",
        "\n"
      ]
    },
    {
      "cell_type": "code",
      "execution_count": null,
      "metadata": {
        "id": "jnhm7ycMrLWb"
      },
      "outputs": [],
      "source": [
        "#@markdown #ติดตั้ง UI \n",
        "\n",
        "#@markdown ต้องการเชื่อมต่อ Google Drive เพื่อรัน UI.\n",
        "\n",
        "#@markdown ดัดแปลงโดย Rungniwat.\n",
        "\n",
        "#@markdown หมายเหตุ: หากไม่ได้เชื่อมต่อ Google ไดรฟ์ รหัสจะใช้พื้นที่เก็บข้อมูล Colab แทน.\n",
        "\n",
        "#@title\n",
        "# Import necessary libraries\n",
        "from IPython.display import clear_output\n",
        "from IPython.utils import capture\n",
        "from subprocess import getoutput\n",
        "import ipywidgets as widgets\n",
        "import sys\n",
        "import fileinput\n",
        "import os\n",
        "import time\n",
        "\n",
        "# WebUI Installation\n",
        "\n",
        "# ตรวจสอบว่ามีการเชื่อมต่อ Google Drive.\n",
        "if not os.path.exists(\"/content/gdrive/MyDrive/\"):\n",
        "    print(\"Drive ไม่ได้เชื่อมต่อ, กำลังใช้พื้นที่ Colab แทน ...\")\n",
        "    time.sleep(4)\n",
        "    !mkdir -p /content/gdrive/MyDrive/\n",
        "\n",
        "# โคลนที่เก็บและสร้างไดเร็กทอรีที่จำเป็น\n",
        "with capture.capture_output() as cap:\n",
        "    def inf(msg, style, wdth):\n",
        "        inf = widgets.Button(description=msg, disabled=True, button_style=style, layout=widgets.Layout(min_width=wdth))\n",
        "        display(inf)\n",
        "\n",
        "    %mkdir -p /content/gdrive/MyDrive/microsoft\n",
        "    %cd /content/gdrive/MyDrive/microsoft\n",
        "    !git clone https://github.com/yahoojbank/microsoft microsoft\n",
        "    !mkdir -p /content/gdrive/MyDrive/microsoft/microsoft/cache/huggingface\n",
        "    !ln -s /content/gdrive/MyDrive/microsoft/microsoft/cache/huggingface /root/.cache/\n",
        "\n",
        "# รีเซ็ตที่เก็บ git และดึงการเปลี่ยนแปลงล่าสุด\n",
        "with capture.capture_output() as cap:\n",
        "    %cd /content/gdrive/MyDrive/microsoft/microsoft/\n",
        "    !git reset --hard\n",
        "    time.sleep(1)\n",
        "\n",
        "print(\"Updating the repository...\")\n",
        "!git pull\n",
        "\n",
        "# ล้างผลลัพธ์และแสดงข้อความแสดงความสำเร็จ\n",
        "clear_output()\n",
        "inf(\"😍 เสร็จแล้ว\", \"success\", \"50px\")"
      ]
    },
    {
      "cell_type": "markdown",
      "metadata": {
        "id": "8SrMhmFz7Lt4"
      },
      "source": [
        "---"
      ]
    },
    {
      "cell_type": "code",
      "execution_count": null,
      "metadata": {
        "id": "yjvkHRlDtDmV"
      },
      "outputs": [],
      "source": [
        "#@markdown #ข้อกำหนดการติดตั้ง\n",
        "\n",
        "#@markdown ตอนนี้เราได้ดาวน์โหลด Kohya SS WebUI แล้ว เราจำเป็นต้องติดตั้งข้อกำหนดที่จำเป็น.\n",
        "\n",
        "# ข้อความแสดงสถานะ\n",
        "print(\"Installing requirements...\")\n",
        "\n",
        "# เปลี่ยนไดเร็กทอรีการทำงานเป็นโฟลเดอร์โปรเจ็กต์\n",
        "%cd /content/gdrive/MyDrive/microsoft/microsoft/\n",
        "\n",
        "# ติดตั้งความต้องการ\n",
        "with capture.capture_output() as cap:\n",
        "    # คุณกำลังติดตั้ง specific versions of torch 1.12.1 and 0.13.1 torchvision\n",
        "    # !pip install torch==1.12.1+cu116 torchvision==0.13.1+cu116 --extra-index-url https://download.pytorch.org/whl/cu116\n",
        "\n",
        "    # ติดตั้งข้อกำหนดจาก requirements.txt file\n",
        "    !pip install -r requirements.txt\n",
        "\n",
        "# ล้างเอาต์พุตเพื่อให้โน้ตบุ๊กสะอาด\n",
        "clear_output()\n",
        "\n",
        "# Print the success message\n",
        "inf(\"✓ Done\", \"success\", \"50px\")"
      ]
    },
    {
      "cell_type": "markdown",
      "metadata": {
        "id": "FLDvlHm1tYud"
      },
      "source": [
        "\n",
        "---\n",
        "\n"
      ]
    },
    {
      "cell_type": "code",
      "execution_count": null,
      "metadata": {
        "id": "IzS3hvuTtTqW"
      },
      "outputs": [],
      "source": [
        "#@markdown # เปิดใช้งาน UI\n",
        "\n",
        "User = \"\" #@param {type:\"string\"}\n",
        "Password = \"\" #@param {type:\"string\"}\n",
        "\n",
        "#@markdown - การเพิ่มชื่อผู้ใช้และรหัสผ่านไม่จำเป็น แต่จะปรับปรุงความปลอดภัยของอินสแตนซ์ UI ของคุณ.\n",
        "#@markdown ______\n",
        "#@markdown # กรุณาคลิกลิงค์ที่ลงท้ายด้วย ```gradio.live``` เพื่อเข้าใช้งาน UI\n",
        "# กระตุ้นให้ผู้ใช้มีส่วนร่วมในการปรับปรุง\n",
        "print(\"โปรดอย่าลังเลที่จะทำการเปลี่ยนแปลงหรือปรับปรุงใด ๆ ที่คุณคิดว่าจะปรับปรุงการตั้งค่านี้ ข้อมูลและการมีส่วนร่วมของคุณได้รับการชื่นชมอย่างมาก!\")\n",
        "# ตรวจสอบว่าผู้ใช้ได้ระบุชื่อผู้ใช้และรหัสผ่านหรือไม่\n",
        "if User and Password:\n",
        "    # เรียกใช้ UI ด้วยข้อมูลประจำตัวที่ให้มา\n",
        "    !python /content/gdrive/MyDrive/microsoft/microsoft/kohya_gui.py --username $User --password $Password --share\n",
        "else:\n",
        "    # เรียกใช้ UI โดยไม่มีข้อมูลประจำตัว\n",
        "    !python /content/gdrive/MyDrive/microsoft/microsoft/kohya_gui.py --share"
      ]
    }
  {,
  "metadata": {
    "colab": {
      "provenance": [],
      "include_colab_link": true
    },
    "kernelspec": {
      "display_name": "Python 3",
      "name": "python3"
    },
    "language_info": {
      "name": "python"
    }
  },
  "nbformat": 4,
  "nbformat_minor": 0
}
