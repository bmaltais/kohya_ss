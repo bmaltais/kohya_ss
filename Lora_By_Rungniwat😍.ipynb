{
  "nbformat": 4,
  "nbformat_minor": 0,
  "metadata": {
    "colab": {
      "provenance": [],
      "authorship_tag": "ABX9TyMaB/A3hCtCn+KaE7jwLQuK",
      "include_colab_link": true
    },
    "kernelspec": {
      "name": "python3",
      "display_name": "Python 3"
    },
    "language_info": {
      "name": "python"
    }
  },
  "cells": [
    {
      "cell_type": "markdown",
      "metadata": {
        "id": "view-in-github",
        "colab_type": "text"
      },
      "source": [
        "<a href=\"https://colab.research.google.com/github/yahoojbank/microsoft/blob/master/Lora_By_Rungniwat%F0%9F%98%8D.ipynb\" target=\"_parent\"><img src=\"https://colab.research.google.com/assets/colab-badge.svg\" alt=\"Open In Colab\"/></a>"
      ]
    },
    {
      "cell_type": "markdown",
      "source": [
        "![An image](https://raw.githubusercontent.com/yahoojbank/microsoft/master/IMG_20230714_105105.jpg)"
      ],
      "metadata": {
        "id": "O6EKpoSbggTo"
      }
    },
    {
      "cell_type": "code",
      "execution_count": null,
      "metadata": {
        "id": "IJ0tkMB0VoGk"
      },
      "outputs": [],
      "source": [
        "#@markdown ขั้นตอนที่ 1: ติดตั้ง X VIRTUAL ถ้าไม่ติดตั้งใช้ไม่ได้\n",
        "#@markdown :สำคัญมาก!\n",
        "!apt-get update\n",
        "!apt-get install -y xvfb"
      ]
    },
    {
      "cell_type": "code",
      "source": [
        "\n",
        "#@markdown ขั้นตอนที่ 2: กดรันเพื่อเปิดใช้งาน X VIRTUAL DISPLAY\n",
        "import os\n",
        "os.system('Xvfb :1 -screen 0 1024x768x24 &')\n",
        "os.environ['DISPLAY'] = ':1'"
      ],
      "metadata": {
        "id": "2oHDkmQpWPl7"
      },
      "execution_count": null,
      "outputs": []
    },
    {
      "cell_type": "code",
      "source": [
        "#@markdown ขั้นตอนที่ 3: รันเชื่อมต่อกับ Google Drive\n",
        "\n",
        "#@markdown ทุกอย่างที่กำลังทำงานจะถูกเซฟไว้ใน Google Drive ทั้งหมดเตรียมพื้นที่ให้พร้อม.\n",
        "\n",
        "#@markdown เส้นทางที่ถูกเซฟไว้คือที่นี่ /content/gdrive.\n",
        "\n",
        "\n",
        "\n",
        "from google.colab import drive\n",
        "drive.mount('/content/gdrive')"
      ],
      "metadata": {
        "id": "RGjalxCBW0b4"
      },
      "execution_count": null,
      "outputs": []
    },
    {
      "cell_type": "code",
      "source": [
        "#@markdown ขั้นตอนที่ 4: กดรันเพื่อเปิดโฟลเดอร์ลง \"MODEL\"\n",
        "#@markdown คำเตือน! สร้างโฟลเดอร์ที่ Google Drive ก่อน \"model\"\n",
        "#@markdown ถ้าต้องการอัปโหลดไฟล์เองเปิดโฟลเดอร์ของที่จัดเก็บ /microsoft/model\n",
        "\n",
        "cd /content/gdrive/MyDrive/microsoft/model"
      ],
      "metadata": {
        "id": "VcIWzeEGXFiK"
      },
      "execution_count": null,
      "outputs": []
    },
    {
      "cell_type": "code",
      "source": [
        "#@markdown ขั้นตอนที่ 5: ดาวน์โหลด \"MODEL\" จาก Huggingface\n",
        "#@markdown วาง url เสร็จ! ลบ \"\" ออก\n",
        "\n",
        "cd /content/gdrive/MyDrive/microsoft/model\""
        "!wget \"url โมเดล\""
      ],
      "metadata": {
        "id": "d4Q-eibZadwY"
      },
      "execution_count": null,
      "outputs": []
    },
    {
      "cell_type": "code",
      "source": [
        "#@markdown ขั้นตอนที่ 6: ติดตั้ง UI\n",
        "\n",
        "#@markdown ต้องการเชื่อมต่อ Google Drive เพื่อรัน UI.\n",
        "\n",
        "#@markdown ดัดแปลงโดย Rungniwat.\n",
        "\n",
        "#@markdown หมายเหตุ: หากไม่ได้เชื่อมต่อ Google ไดรฟ์ รหัสจะใช้พื้นที่เก็บข้อมูล Colab แทน.\n",
        "\n",
        "#@title\n",
        "# Import necessary libraries\n",
        "from IPython.display import clear_output\n",
        "from IPython.utils import capture\n",
        "from subprocess import getoutput\n",
        "import ipywidgets as widgets\n",
        "import sys\n",
        "import fileinput\n",
        "import os\n",
        "import time\n",
        "\n",
        "# WebUI Installation\n",
        "\n",
        "# ตรวจสอบว่ามีการเชื่อมต่อ Google Drive.\n",
        "if not os.path.exists(\"/content/gdrive/MyDrive/\"):\n",
        "    print(\"Drive ไม่ได้เชื่อมต่อ, กำลังใช้พื้นที่ Colab แทน ...\")\n",
        "    time.sleep(4)\n",
        "    !mkdir -p /content/gdrive/MyDrive/\n",
        "\n",
        "# โคลนที่เก็บและสร้างไดเร็กทอรีที่จำเป็น\n",
        "with capture.capture_output() as cap:\n",
        "    def inf(msg, style, wdth):\n",
        "        inf = widgets.Button(description=msg, disabled=True, button_style=style, layout=widgets.Layout(min_width=wdth))\n",
        "        display(inf)\n",
        "\n",
        "    %mkdir -p /content/gdrive/MyDrive/microsoft\n",
        "    %cd /content/gdrive/MyDrive/microsoft\n",
        "    !git clone https://github.com/yahoojbank/microsoft microsoft\n",
        "    !mkdir -p /content/gdrive/MyDrive/microsoft/microsoft/cache/huggingface\n",
        "    !ln -s /content/gdrive/MyDrive/microsoft/microsoft/cache/huggingface /root/.cache/\n",
        "\n",
        "# รีเซ็ตที่เก็บ git และดึงการเปลี่ยนแปลงล่าสุด\n",
        "with capture.capture_output() as cap:\n",
        "    %cd /content/gdrive/MyDrive/microsoft/microsoft/\n",
        "    !git reset --hard\n",
        "    time.sleep(1)\n",
        "\n",
        "print(\"Updating the repository...\")\n",
        "!git pull\n",
        "\n",
        "# ล้างผลลัพธ์และแสดงข้อความแสดงความสำเร็จ\n",
        "clear_output()\n",
        "inf(\"😍 เสร็จแล้ว\", \"success\", \"50px\")"
      ],
      "metadata": {
        "id": "uk1FvboWbzXB"
      },
      "execution_count": null,
      "outputs": []
    },
    {
      "cell_type": "code",
      "source": [
        "#@markdown ขั้นตอนที่ 7: ติดตั้งข้อมูลการใช้งาน UI\n",
        "\n",
        "# ข้อความแสดงสถานะ\n",
        "print(\"Installing requirements...\")\n",
        "\n",
        "# เปลี่ยนไดเร็กทอรีการทำงานเป็นโฟลเดอร์โปรเจ็กต์\n",
        "%cd /content/gdrive/MyDrive/microsoft/microsoft/\n",
        "\n",
        "# ติดตั้งความต้องการ\n",
        "with capture.capture_output() as cap:\n",
        "    # คุณกำลังติดตั้ง specific versions of torch 1.12.1 and 0.13.1 torchvision\n",
        "    # !pip install torch==1.12.1+cu116 torchvision==0.13.1+cu116 --extra-index-url https://download.pytorch.org/whl/cu116\n",
        "\n",
        "    # ติดตั้งข้อกำหนดจาก requirements.txt file\n",
        "    !pip install -r requirements.txt\n",
        "\n",
        "# ล้างเอาต์พุตเพื่อให้โน้ตบุ๊กสะอาด\n",
        "clear_output()\n",
        "\n",
        "# Print the success message\n",
        "inf(\"😍 เสร็จแล้ว\", \"success\", \"50px\")"
      ],
      "metadata": {
        "id": "rfZKKxYGcOy4"
      },
      "execution_count": null,
      "outputs": []
    },
    {
      "cell_type": "code",
      "source": [
        "\n",
        "#@markdown สำคัญ!!!! ถ้าไม่กดติดตั้ง ใช้งานไม่ได้\n",
        "!pip install bitsandbytes\n",
        "# ส่วนที่สอง\n",
        "!python -m bitsandbytes"
      ],
      "metadata": {
        "id": "fP60MnljekEM"
      },
      "execution_count": null,
      "outputs": []
    },
    {
      "cell_type": "code",
      "source": [
        "#@markdown # เปิดใช้งาน UI\n",
        "\n",
        "User = \"\" #@param {type:\"string\"}\n",
        "Password = \"\" #@param {type:\"string\"}\n",
        "\n",
        "#@markdown - การเพิ่มชื่อผู้ใช้และรหัสผ่านไม่จำเป็น แต่จะปรับปรุงความปลอดภัยของอินสแตนซ์ UI ของคุณ.\n",
        "#@markdown ______\n",
        "\n",
        "# ดัดแปลงโดย Rungniwat.\n",
        "print(\"ขอให้สนุกกับการเทรน Lora 😍😍\")\n",
        "# ตรวจสอบว่าผู้ใช้ได้ระบุชื่อผู้ใช้และรหัสผ่านหรือไม่\n",
        "if User and Password:\n",
        "    # เรียกใช้ UI ด้วยข้อมูลประจำตัวที่ให้มา\n",
        "    !python /content/gdrive/MyDrive/microsoft/microsoft/kohya_gui.py --username $User --password $Password --share --headless\n",
        "else:\n",
        "    # เรียกใช้ UI โดยไม่มีข้อมูลประจำตัว\n",
        "    !python /content/gdrive/MyDrive/microsoft/microsoft/kohya_gui.py --share --headless"
      ],
      "metadata": {
        "id": "UHpRgct5c9cg"
      },
      "execution_count": null,
      "outputs": []
    }
  ]
}
